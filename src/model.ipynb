{
 "cells": [
  {
   "cell_type": "markdown",
   "metadata": {},
   "source": [
    "# Projet AI - NLP Sentiment Classifier"
   ]
  },
  {
   "cell_type": "markdown",
   "metadata": {},
   "source": [
    "In this project, we will implement an AI model. We'll provide a sentence as input to the model, and it will tell us if the message is negative or positive. We will use NLP techniques to build this AI model."
   ]
  },
  {
   "cell_type": "markdown",
   "metadata": {},
   "source": [
    "We have an Amazon dataset that contains various user feedback on different products. The dataset is located in the **data** folder."
   ]
  },
  {
   "cell_type": "markdown",
   "metadata": {},
   "source": [
    "We'll import all the necessary packages for this project. You can find the details in the **requirements.txt** file."
   ]
  },
  {
   "cell_type": "code",
   "execution_count": 64,
   "metadata": {},
   "outputs": [],
   "source": [
    "import numpy as np\n",
    "import json\n",
    "import pandas\n",
    "import random"
   ]
  },
  {
   "cell_type": "markdown",
   "metadata": {},
   "source": [
    "We initialize a Review class and Sentiments class. In Sentiments class we have 3 attributs, thoses attributs significate negative, neutral and positive. On the other side, we have Review class. This class take text, score and the sentiments of this text in function of score."
   ]
  },
  {
   "cell_type": "code",
   "execution_count": 66,
   "metadata": {},
   "outputs": [],
   "source": [
    "class Sentiments:\n",
    "    NEGATIVE = \"NEGATIVE\"\n",
    "    NEUTRAL = \"NEUTRAL\"\n",
    "    POSITIVE = \"POSITIVE\"\n",
    "\n",
    "class Review:\n",
    "    \n",
    "    def __init__(self, text, score):\n",
    "        self.text = text\n",
    "        self.score = score\n",
    "        self.sentiment = self.get_sentiments()\n",
    "        \n",
    "    def display_review(self):\n",
    "        print(self.text + \" | \" + str(self.score) + \" | \" + self.sentiment)\n",
    "        \n",
    "    def get_text(self):\n",
    "        return self.text\n",
    "    \n",
    "    def get_score(self):\n",
    "        return self.score\n",
    "            \n",
    "    def get_sentiments(self):\n",
    "        if self.score <= 2:\n",
    "            return Sentiments.NEGATIVE\n",
    "        elif self.score == 3:\n",
    "            return Sentiments.NEUTRAL\n",
    "        elif self.score > 3:\n",
    "            return Sentiments.POSITIVE\n",
    "\n",
    "class ReviewContainer:\n",
    "    def __init__(self, reviews):\n",
    "        self.reviews = reviews\n",
    "        \n",
    "    def get_text(self):\n",
    "        return [x.text for x in self.reviews]\n",
    "    \n",
    "    def get_sentiment(self):\n",
    "        return [x.sentiment for x in self.reviews]\n",
    "        \n",
    "    def evenly_distribute(self):\n",
    "        negative = list(filter(lambda x: x.sentiment == Sentiments.NEGATIVE, self.reviews))\n",
    "        positive = list(filter(lambda x: x.sentiment == Sentiments.POSITIVE, self.reviews))\n",
    "        positive_shrunk = positive[:len(negative)]\n",
    "        self.reviews = negative + positive_shrunk\n",
    "        random.shuffle(self.reviews)"
   ]
  },
  {
   "cell_type": "markdown",
   "metadata": {},
   "source": [
    "We'll display all the data in that file : **Books_small.json**. Specifically reviewText and overall because that's what we want. We stock thoses data in Review class (reviewText and overall) into list . We'll keep that list for later."
   ]
  },
  {
   "cell_type": "code",
   "execution_count": 67,
   "metadata": {},
   "outputs": [],
   "source": [
    "path_data = \"../data/Books_small_10000.json\"\n",
    "\n",
    "reviews = []\n",
    "\n",
    "with open(path_data) as f:\n",
    "    for line in f:\n",
    "        review_ = json.loads(line)\n",
    "        \n",
    "        # Display reviewText en overall   \n",
    "        #print(\"- \" + review_['reviewText'])\n",
    "        #print(review_['overall'])\n",
    "        \n",
    "        review_text = review_['reviewText']\n",
    "        review_overall = review_['overall']\n",
    "        \n",
    "        reviews.append(Review(review_text, review_overall))"
   ]
  },
  {
   "cell_type": "code",
   "execution_count": 68,
   "metadata": {},
   "outputs": [
    {
     "name": "stdout",
     "output_type": "stream",
     "text": [
      "I bought both boxed sets, books 1-5.  Really a great series!  Start book 1 three weeks ago and just finished book 5.  Sloane Monroe is a great character and being able to follow her through both private life and her PI life gets a reader very involved!  Although clues may be right in front of the reader, there are twists and turns that keep one guessing until the last page!  These are books you won't be disappointed with. | 5.0 | POSITIVE\n",
      "None\n",
      "10000\n"
     ]
    }
   ],
   "source": [
    "print(reviews[0].display_review())\n",
    "print(len(reviews))"
   ]
  },
  {
   "cell_type": "markdown",
   "metadata": {},
   "source": [
    "Now, we have our main data into that list **reviews**, but in machine learning (ML), we want some vector, arrays, etc... So we'll convert that list into numerical arrays or numerical vector used numpy package from python. The method is called BOW (Bag of Words). This technique will give us a method to prepare a good structure for our model to analyze and process data."
   ]
  },
  {
   "cell_type": "markdown",
   "metadata": {},
   "source": [
    "Befere we need to prepare our data. We'll do 2 blocks of data. First one is our training data, we'll give those data to our model and our model we'll train with. Second one is our testing data, after our model got training we'll give him testing data and in function of output result, we'll known if our model have learning good or not."
   ]
  },
  {
   "cell_type": "code",
   "execution_count": 70,
   "metadata": {},
   "outputs": [],
   "source": [
    "# Prep data (training and testing) split\n",
    "from sklearn.model_selection import train_test_split\n",
    "\n",
    "training_data, test_data = train_test_split(reviews, test_size=0.3, random_state=42)\n",
    "\n",
    "train_container = ReviewContainer(training_data)\n",
    "\n",
    "test_container = ReviewContainer(test_data)"
   ]
  },
  {
   "cell_type": "code",
   "execution_count": 71,
   "metadata": {},
   "outputs": [
    {
     "name": "stdout",
     "output_type": "stream",
     "text": [
      "training data :  7000\n",
      "test data :  3000\n"
     ]
    }
   ],
   "source": [
    "# Display training_data size and test_data size\n",
    "print(\"training data : \", len(training_data))\n",
    "print(\"test data : \", len(test_data))"
   ]
  },
  {
   "cell_type": "code",
   "execution_count": 73,
   "metadata": {},
   "outputs": [
    {
     "name": "stdout",
     "output_type": "stream",
     "text": [
      "461\n",
      "461\n"
     ]
    }
   ],
   "source": [
    "train_container.evenly_distribute()\n",
    "train_x = train_container.get_text()\n",
    "train_y = train_container.get_sentiment()\n",
    "\n",
    "test_container.evenly_distribute()\n",
    "test_x = test_container.get_text()\n",
    "test_y = test_container.get_sentiment()\n",
    "\n",
    "print(train_y.count(Sentiments.POSITIVE))\n",
    "print(train_y.count(Sentiments.NEGATIVE))"
   ]
  },
  {
   "cell_type": "markdown",
   "metadata": {},
   "source": [
    "## BAGS OF WORDS (BOW)"
   ]
  },
  {
   "cell_type": "code",
   "execution_count": 74,
   "metadata": {},
   "outputs": [
    {
     "name": "stdout",
     "output_type": "stream",
     "text": [
      "The book is in a comic book format. I have never liked comic books and the writing in this format is impossible to read and follow on a kindle. Had I realized it was a comic book, I would not have purchased it.\n",
      "[[0 0 0 ... 0 0 0]]\n"
     ]
    }
   ],
   "source": [
    "from sklearn.feature_extraction.text import CountVectorizer\n",
    "\n",
    "vectorizer = CountVectorizer()\n",
    "train_x_vec = vectorizer.fit_transform(train_x)\n",
    "\n",
    "test_x_vec = vectorizer.transform(test_x)\n",
    "\n",
    "print(train_x[0])\n",
    "print(train_x_vec[0].toarray())\n",
    "\n",
    "#print(train_x_vec.toarray())"
   ]
  },
  {
   "cell_type": "markdown",
   "metadata": {},
   "source": [
    "## Classification"
   ]
  },
  {
   "cell_type": "code",
   "execution_count": 75,
   "metadata": {},
   "outputs": [
    {
     "name": "stdout",
     "output_type": "stream",
     "text": [
      "All my annoyance melted. \"You dumb-a@#,\" I crooned, kissing her on the forehead. \"You don't share me. You own me.\"This book owned me. I couldn't even think about putting it down and if I had to then all I could think about was getting back to it. Honestly I was quite content and happy with how If I Stay ended. It was an epic ending if you ask me. But of course if Gayle Forman is going to offer more of Adam and Mia's story, then I'm going to take it. And I did and loved it. It crushed me and then made me whole again.It was very hard for me to not flip to the end to see how this story was going to conclude but I kept control and just moved forward with the story. It was just that I really didn't know how this was going to end and it was ripping me apart. This year I've read some books with unhappy endings and have actually enjoyed them, kind of like a breath of fresh-air, something different, but there's no way I could have handled an ending like that with this book.I fell in love with Gayle Forman's writing and am looking forward to reading her other books!\n"
     ]
    },
    {
     "data": {
      "text/plain": [
       "array(['NEGATIVE'], dtype='<U8')"
      ]
     },
     "execution_count": 75,
     "metadata": {},
     "output_type": "execute_result"
    }
   ],
   "source": [
    "## Linear SVM option\n",
    "\n",
    "from sklearn import svm\n",
    "\n",
    "clf_svm = svm.SVC(kernel='linear')\n",
    "clf_svm.fit(train_x_vec, train_y)\n",
    "\n",
    "print(test_x[0])\n",
    "\n",
    "clf_svm.predict(test_x_vec[0])\n"
   ]
  },
  {
   "cell_type": "markdown",
   "metadata": {},
   "source": [
    "## Évalutation"
   ]
  },
  {
   "cell_type": "code",
   "execution_count": 76,
   "metadata": {},
   "outputs": [
    {
     "data": {
      "text/plain": [
       "0.8114754098360656"
      ]
     },
     "execution_count": 76,
     "metadata": {},
     "output_type": "execute_result"
    }
   ],
   "source": [
    "clf_svm.score(test_x_vec, test_y)"
   ]
  },
  {
   "cell_type": "markdown",
   "metadata": {},
   "source": [
    "## F1 Score"
   ]
  },
  {
   "cell_type": "code",
   "execution_count": 77,
   "metadata": {},
   "outputs": [
    {
     "data": {
      "text/plain": [
       "array([0.8109589, 0.8119891])"
      ]
     },
     "execution_count": 77,
     "metadata": {},
     "output_type": "execute_result"
    }
   ],
   "source": [
    "from sklearn.metrics import f1_score\n",
    "\n",
    "f1_score(test_y, clf_svm.predict(test_x_vec), average=None)"
   ]
  },
  {
   "cell_type": "code",
   "execution_count": 78,
   "metadata": {},
   "outputs": [
    {
     "name": "stdout",
     "output_type": "stream",
     "text": [
      "461\n",
      "0\n",
      "461\n"
     ]
    }
   ],
   "source": [
    "print(train_y.count(Sentiments.POSITIVE))\n",
    "print(train_y.count(Sentiments.NEUTRAL))\n",
    "print(train_y.count(Sentiments.NEGATIVE))"
   ]
  },
  {
   "cell_type": "markdown",
   "metadata": {},
   "source": [
    "## Let's see our model in action"
   ]
  },
  {
   "cell_type": "code",
   "execution_count": 89,
   "metadata": {},
   "outputs": [
    {
     "data": {
      "text/plain": [
       "array(['POSITIVE'], dtype='<U8')"
      ]
     },
     "execution_count": 89,
     "metadata": {},
     "output_type": "execute_result"
    }
   ],
   "source": [
    "test_set = ['that is sooo great book']\n",
    "new_test = vectorizer.transform(test_set)\n",
    "\n",
    "clf_svm.predict(new_test)"
   ]
  }
 ],
 "metadata": {
  "kernelspec": {
   "display_name": "venv",
   "language": "python",
   "name": "python3"
  },
  "language_info": {
   "codemirror_mode": {
    "name": "ipython",
    "version": 3
   },
   "file_extension": ".py",
   "mimetype": "text/x-python",
   "name": "python",
   "nbconvert_exporter": "python",
   "pygments_lexer": "ipython3",
   "version": "3.12.0"
  }
 },
 "nbformat": 4,
 "nbformat_minor": 2
}
